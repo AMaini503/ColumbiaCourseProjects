{
 "cells": [
  {
   "cell_type": "code",
   "execution_count": 17,
   "metadata": {},
   "outputs": [
    {
     "name": "stdout",
     "output_type": "stream",
     "text": [
      "Extracting MNIST_data/train-images-idx3-ubyte.gz\n",
      "Extracting MNIST_data/train-labels-idx1-ubyte.gz\n",
      "Extracting MNIST_data/t10k-images-idx3-ubyte.gz\n",
      "Extracting MNIST_data/t10k-labels-idx1-ubyte.gz\n",
      "<class 'tensorflow.contrib.learn.python.learn.datasets.base.Datasets'>\n"
     ]
    }
   ],
   "source": [
    "from tensorflow.examples.tutorials.mnist import input_data\n",
    "import tensorflow as tf\n",
    "import numpy as np\n",
    "import matplotlib.pyplot as plt\n",
    "\n",
    "def get_image_matrix(image):\n",
    "    return np.reshape(image,[28,28])\n",
    "\n",
    "def flip_image_lr(image):\n",
    "    \n",
    "#     plt.close('all')\n",
    "#     f, (ax1, ax2) = plt.subplots(1,2)\n",
    "#     ax1.imshow(image)\n",
    "#     ax2.imshow(image_flipped)\n",
    "#     plt.show()\n",
    "    \n",
    "    #reshape the image to 28 X 28\n",
    "    image = get_image_matrix(image)\n",
    "    \n",
    "    #flip the image\n",
    "    image = np.fliplr(image)\n",
    "    return image\n",
    "\n",
    "def add_brightness(image): \n",
    "    image = get_image_matrix(image)\n",
    "    \n",
    "mnist = input_data.read_data_sets(\"MNIST_data/\", one_hot = True)\n",
    "print type(mnist)\n",
    "batch_size = 100\n",
    "num_iterations = 1000\n",
    "summaries_dir = '/home/aayush/ColumbiaCourseProjects/Deep Learning/Summary/'"
   ]
  },
  {
   "cell_type": "code",
   "execution_count": 16,
   "metadata": {},
   "outputs": [
    {
     "name": "stdout",
     "output_type": "stream",
     "text": [
      "INFO:tensorflow:Summary name Training Accuracy is illegal; using Training_Accuracy instead.\n",
      "Logging summary in /home/aayush/ColumbiaCourseProjects/Deep Learning/Summary/train/\n",
      "0.8711\n"
     ]
    }
   ],
   "source": [
    "#reset the default graph to remove old summary node\n",
    "tf.reset_default_graph()\n",
    "\n",
    "#number of samples being fed forward might vary, so None\n",
    "x = tf.placeholder(tf.float32, [None, 784])\n",
    "y_actual = tf.placeholder(tf.float32, [None, 10])\n",
    "W = tf.Variable(tf.zeros([784,10]))\n",
    "b = tf.Variable(tf.zeros([10]))\n",
    "\n",
    "\n",
    "#learning rate for the gradient descent\n",
    "eta = tf.placeholder(dtype=tf.float32)\n",
    "\n",
    "Z = tf.matmul(x, W) + b\n",
    "\n",
    "#loss per sample\n",
    "cross_entropy_loss = tf.nn.softmax_cross_entropy_with_logits(logits = Z, labels = y_actual)\n",
    "cross_entropy_loss = tf.reduce_mean(cross_entropy_loss)\n",
    "\n",
    "correct_classifications = tf.equal(tf.argmax(Z, 1), tf.argmax(y_actual, 1))\n",
    "accuracy = tf.reduce_mean(tf.cast(correct_classifications, tf.float32))\n",
    "\n",
    "\n",
    "train_step = tf.train.GradientDescentOptimizer(eta).minimize(cross_entropy_loss)\n",
    "\n",
    "#summary nodes for the network\n",
    "tf.summary.scalar('Loss', cross_entropy_loss)\n",
    "tf.summary.scalar('Training Accuracy', accuracy)\n",
    "merged = tf.summary.merge_all()\n",
    "\n",
    "print 'Logging summary in {}'.format(summaries_dir + 'train/')\n",
    "train_writer = tf.summary.FileWriter(summaries_dir + 'train/')\n",
    "\n",
    "\n",
    "#begin new session\n",
    "sess = tf.InteractiveSession()\n",
    "\n",
    "#initialize the variables as specified\n",
    "init = tf.global_variables_initializer()\n",
    "init.run()\n",
    "\n",
    "\n",
    "\n",
    "#run 1000 iterations of training batches of size `batch_size`\n",
    "for i in range(num_iterations):\n",
    "    x_batch, y_batch = mnist.train.next_batch(batch_size)\n",
    "    summary, _ = sess.run([merged,train_step], feed_dict={x: x_batch, y_actual: y_batch, eta: 0.01})\n",
    "    \n",
    "    #write the train summary every iteration\n",
    "    train_writer.add_summary(summary, i)\n",
    "    \n",
    "\n",
    "#running the train model on test data set\n",
    "x_test = mnist.test.images\n",
    "y_test = mnist.test.labels\n",
    "\n",
    "accuracy = sess.run(accuracy, feed_dict={x: x_test, y_actual: y_test})\n",
    "print accuracy"
   ]
  },
  {
   "cell_type": "code",
   "execution_count": null,
   "metadata": {},
   "outputs": [],
   "source": []
  }
 ],
 "metadata": {
  "kernelspec": {
   "display_name": "tensorflow",
   "language": "python",
   "name": "tensorflow"
  },
  "language_info": {
   "codemirror_mode": {
    "name": "ipython",
    "version": 2
   },
   "file_extension": ".py",
   "mimetype": "text/x-python",
   "name": "python",
   "nbconvert_exporter": "python",
   "pygments_lexer": "ipython2",
   "version": "2.7.12"
  }
 },
 "nbformat": 4,
 "nbformat_minor": 2
}
