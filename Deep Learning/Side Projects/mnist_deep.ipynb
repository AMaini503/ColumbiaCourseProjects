{
 "cells": [
  {
   "cell_type": "code",
   "execution_count": 21,
   "metadata": {},
   "outputs": [
    {
     "name": "stdout",
     "output_type": "stream",
     "text": [
      "Extracting MNIST_data/train-images-idx3-ubyte.gz\n",
      "Extracting MNIST_data/train-labels-idx1-ubyte.gz\n",
      "Extracting MNIST_data/t10k-images-idx3-ubyte.gz\n",
      "Extracting MNIST_data/t10k-labels-idx1-ubyte.gz\n"
     ]
    }
   ],
   "source": [
    "from tensorflow.examples.tutorials.mnist import input_data\n",
    "import tensorflow as tf\n",
    "mnist = input_data.read_data_sets('MNIST_data', one_hot=True)\n",
    "\n",
    "\n",
    "def weight_variable(shape):\n",
    "    init = tf.truncated_normal(shape, stddev=0.1)\n",
    "    return tf.Variable(init, dtype=tf.float32)\n",
    "def bias_variable(shape):\n",
    "    init = tf.constant(0.1, shape = shape)\n",
    "    return tf.Variable(init, dtype=tf.float32)\n",
    "\n",
    "#kernel size and strides described over dimensions = [batch_size, h, w, channels]\n",
    "def conv2d(x, W):\n",
    "    return tf.nn.conv2d(x, W, strides=[1,1,1,1], padding='SAME')\n",
    "def max_pool_2X2(x):\n",
    "    return tf.nn.max_pool(x, ksize=[1,2,2,1], strides=[1,2,2,1], padding='SAME')\n",
    "\n"
   ]
  },
  {
   "cell_type": "code",
   "execution_count": 22,
   "metadata": {},
   "outputs": [],
   "source": [
    "tf.reset_default_graph()\n",
    "x = tf.placeholder(dtype=tf.float32, shape=[None, 784])\n",
    "y = tf.placeholder(dtype=tf.float32, shape=[None, 10])\n",
    "keep_prob = tf.placeholder(tf.float32)\n",
    "\n",
    "#first convolutional layer\n",
    "\n",
    "#[kwidth, kheight, #inchannels, #outchannels]\n",
    "W_conv1 = weight_variable([5,5,1,32])\n",
    "#the same bias is broadcast across all the channels\n",
    "b_conv1 = bias_variable([32])\n",
    "\n",
    "x_image = tf.reshape(x, [-1,28,28,1])\n",
    "x_image = tf.cast(x_image, tf.float32)\n",
    "\n",
    "h_conv1 = tf.nn.relu(conv2d(x_image, W_conv1) + b_conv1)\n",
    "h_pool1 = max_pool_2X2(h_conv1)\n",
    "\n",
    "#second convolutional layer\n",
    "W_conv2 = weight_variable([5,5,32,64])\n",
    "\n",
    "b_conv2 = bias_variable([64])\n",
    "\n",
    "h_conv2 = tf.nn.relu(conv2d(h_pool1, W_conv2) + b_conv2)\n",
    "h_pool2 = max_pool_2X2(h_conv2)\n",
    "\n",
    "#Fully connected layer, no pooling in these layers\n",
    "h_pool2 = tf.reshape(h_pool2, [-1, 7*7*64])\n",
    "W_fc1 = weight_variable([7*7*64, 1024])\n",
    "b_fc1 = bias_variable([1024])\n",
    "\n",
    "h_fc1 = tf.nn.relu(tf.matmul(h_pool2, W_fc1) + b_fc1)\n",
    "h_fc1_drop = tf.nn.dropout(h_fc1, keep_prob)\n",
    "\n",
    "#output layer\n",
    "W_fc2 = weight_variable([1024, 10])\n",
    "b_fc2 = bias_variable([10])\n",
    "\n",
    "y_predicted = tf.matmul(h_fc1_drop, W_fc2) + b_fc2\n",
    "\n",
    "cross_entropy_loss = tf.nn.softmax_cross_entropy_with_logits(labels=y, logits = y_predicted)\n",
    "cross_entropy_loss = tf.reduce_mean(cross_entropy_loss)\n",
    "\n",
    "train_step = tf.train.GradientDescentOptimizer(0.001).minimize(cross_entropy_loss)\n",
    "\n",
    "correct_classifications = tf.equal(tf.argmax(y_predicted, 1), tf.argmax(y, 1))\n",
    "correct_classifications = tf.cast(correct_classifications, tf.float32)\n",
    "accuracy = tf.reduce_mean(correct_classifications)\n",
    "\n",
    "\n",
    "\n",
    "#add summary nodes\n",
    "tf.summary.scalar('Accuracy', accuracy)\n",
    "tf.summary.scalar('Loss', cross_entropy_loss)\n",
    "merged = tf.summary.merge_all()\n",
    "train_writer = tf.summary.FileWriter('Summary/train/')\n",
    "test_writer = tf.summary.FileWriter('Summary/test/')\n"
   ]
  },
  {
   "cell_type": "code",
   "execution_count": null,
   "metadata": {},
   "outputs": [],
   "source": [
    "with tf.Session() as sess:\n",
    "    init = tf.global_variables_initializer()\n",
    "    init.run()\n",
    "    \n",
    "    for i in range(20000):\n",
    "        data, labels = mnist.train.next_batch(50)\n",
    "        summary, _ = sess.run([merged, train_step], feed_dict={x: data, y: labels, keep_prob: 0.5})\n",
    "        train_writer.add_summary(summary, i)\n",
    "        \n",
    "        if i%100 == 0:\n",
    "            data = mnist.test.images\n",
    "            labels = mnist.test.labels\n",
    "            test_summary = sess.run([merged], feed_dict={x:data, y:labels, keep_prob: 1})\n",
    "            test_writer.add_summary(test_summary, i)\n",
    "        \n",
    "            "
   ]
  },
  {
   "cell_type": "code",
   "execution_count": null,
   "metadata": {},
   "outputs": [],
   "source": []
  }
 ],
 "metadata": {
  "kernelspec": {
   "display_name": "tensorflow",
   "language": "python",
   "name": "tensorflow"
  },
  "language_info": {
   "codemirror_mode": {
    "name": "ipython",
    "version": 2
   },
   "file_extension": ".py",
   "mimetype": "text/x-python",
   "name": "python",
   "nbconvert_exporter": "python",
   "pygments_lexer": "ipython2",
   "version": "2.7.12"
  }
 },
 "nbformat": 4,
 "nbformat_minor": 2
}
